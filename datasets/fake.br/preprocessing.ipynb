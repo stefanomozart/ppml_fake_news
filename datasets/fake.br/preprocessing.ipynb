{
 "cells": [
  {
   "cell_type": "code",
   "execution_count": 1,
   "metadata": {
    "ExecuteTime": {
     "end_time": "2021-11-05T04:31:30.011442Z",
     "start_time": "2021-11-05T04:31:29.608180Z"
    }
   },
   "outputs": [],
   "source": [
    "import os, sys\n",
    "import pandas as pd"
   ]
  },
  {
   "cell_type": "code",
   "execution_count": 2,
   "metadata": {
    "ExecuteTime": {
     "end_time": "2021-11-05T04:31:33.948653Z",
     "start_time": "2021-11-05T04:31:32.682798Z"
    }
   },
   "outputs": [
    {
     "data": {
      "text/html": [
       "<div>\n",
       "<style scoped>\n",
       "    .dataframe tbody tr th:only-of-type {\n",
       "        vertical-align: middle;\n",
       "    }\n",
       "\n",
       "    .dataframe tbody tr th {\n",
       "        vertical-align: top;\n",
       "    }\n",
       "\n",
       "    .dataframe thead th {\n",
       "        text-align: right;\n",
       "    }\n",
       "</style>\n",
       "<table border=\"1\" class=\"dataframe\">\n",
       "  <thead>\n",
       "    <tr style=\"text-align: right;\">\n",
       "      <th></th>\n",
       "      <th>fake</th>\n",
       "      <th>text</th>\n",
       "    </tr>\n",
       "  </thead>\n",
       "  <tbody>\n",
       "    <tr>\n",
       "      <th>0</th>\n",
       "      <td>True</td>\n",
       "      <td>O fim da moralidade? Jean Wyllys poderá se can...</td>\n",
       "    </tr>\n",
       "    <tr>\n",
       "      <th>1</th>\n",
       "      <td>True</td>\n",
       "      <td>Kim responde para senador americano que o cham...</td>\n",
       "    </tr>\n",
       "    <tr>\n",
       "      <th>2</th>\n",
       "      <td>True</td>\n",
       "      <td>Governo gasta R$ 684 mil por ano com aluguel d...</td>\n",
       "    </tr>\n",
       "    <tr>\n",
       "      <th>3</th>\n",
       "      <td>True</td>\n",
       "      <td>Homem faz apelo pela internet: \"Minha esposa d...</td>\n",
       "    </tr>\n",
       "    <tr>\n",
       "      <th>4</th>\n",
       "      <td>True</td>\n",
       "      <td>Polos magnéticos da Terra podem se inverter e ...</td>\n",
       "    </tr>\n",
       "  </tbody>\n",
       "</table>\n",
       "</div>"
      ],
      "text/plain": [
       "   fake                                               text\n",
       "0  True  O fim da moralidade? Jean Wyllys poderá se can...\n",
       "1  True  Kim responde para senador americano que o cham...\n",
       "2  True  Governo gasta R$ 684 mil por ano com aluguel d...\n",
       "3  True  Homem faz apelo pela internet: \"Minha esposa d...\n",
       "4  True  Polos magnéticos da Terra podem se inverter e ..."
      ]
     },
     "execution_count": 2,
     "metadata": {},
     "output_type": "execute_result"
    }
   ],
   "source": [
    "df = []\n",
    "\n",
    "base_path = 'full_texts/'\n",
    "folders = os.listdir(base_path)\n",
    "for folder in ['fake', 'true']:\n",
    "    folder_path = os.path.join(base_path, folder)\n",
    "    for (root, _, files) in os.walk(folder_path):\n",
    "        for file in files:\n",
    "            with open (os.path.join(folder_path, file), \"r\") as f:\n",
    "                df.append({'fake': folder=='fake', 'text': f.read()})\n",
    "\n",
    "df = pd.DataFrame(df)\n",
    "df.head()"
   ]
  },
  {
   "cell_type": "code",
   "execution_count": 3,
   "metadata": {
    "ExecuteTime": {
     "end_time": "2021-11-05T04:31:35.935526Z",
     "start_time": "2021-11-05T04:31:35.447202Z"
    }
   },
   "outputs": [],
   "source": [
    "df.to_csv('fake.br.csv', index=False)"
   ]
  },
  {
   "cell_type": "code",
   "execution_count": 4,
   "metadata": {
    "ExecuteTime": {
     "end_time": "2021-11-05T04:31:43.530198Z",
     "start_time": "2021-11-05T04:31:43.229359Z"
    }
   },
   "outputs": [],
   "source": [
    "df = pd.read_csv('fake.br.csv')"
   ]
  },
  {
   "cell_type": "code",
   "execution_count": 5,
   "metadata": {
    "ExecuteTime": {
     "end_time": "2021-11-05T04:31:51.535302Z",
     "start_time": "2021-11-05T04:31:51.523371Z"
    }
   },
   "outputs": [],
   "source": [
    "df.rename(columns={'fake': 'label'}, inplace=True)"
   ]
  },
  {
   "cell_type": "code",
   "execution_count": 6,
   "metadata": {
    "ExecuteTime": {
     "end_time": "2021-11-05T04:31:52.452490Z",
     "start_time": "2021-11-05T04:31:52.444826Z"
    }
   },
   "outputs": [
    {
     "data": {
      "text/html": [
       "<div>\n",
       "<style scoped>\n",
       "    .dataframe tbody tr th:only-of-type {\n",
       "        vertical-align: middle;\n",
       "    }\n",
       "\n",
       "    .dataframe tbody tr th {\n",
       "        vertical-align: top;\n",
       "    }\n",
       "\n",
       "    .dataframe thead th {\n",
       "        text-align: right;\n",
       "    }\n",
       "</style>\n",
       "<table border=\"1\" class=\"dataframe\">\n",
       "  <thead>\n",
       "    <tr style=\"text-align: right;\">\n",
       "      <th></th>\n",
       "      <th>label</th>\n",
       "      <th>text</th>\n",
       "    </tr>\n",
       "  </thead>\n",
       "  <tbody>\n",
       "    <tr>\n",
       "      <th>0</th>\n",
       "      <td>True</td>\n",
       "      <td>O fim da moralidade? Jean Wyllys poderá se can...</td>\n",
       "    </tr>\n",
       "    <tr>\n",
       "      <th>1</th>\n",
       "      <td>True</td>\n",
       "      <td>Kim responde para senador americano que o cham...</td>\n",
       "    </tr>\n",
       "    <tr>\n",
       "      <th>2</th>\n",
       "      <td>True</td>\n",
       "      <td>Governo gasta R$ 684 mil por ano com aluguel d...</td>\n",
       "    </tr>\n",
       "    <tr>\n",
       "      <th>3</th>\n",
       "      <td>True</td>\n",
       "      <td>Homem faz apelo pela internet: \"Minha esposa d...</td>\n",
       "    </tr>\n",
       "    <tr>\n",
       "      <th>4</th>\n",
       "      <td>True</td>\n",
       "      <td>Polos magnéticos da Terra podem se inverter e ...</td>\n",
       "    </tr>\n",
       "  </tbody>\n",
       "</table>\n",
       "</div>"
      ],
      "text/plain": [
       "   label                                               text\n",
       "0   True  O fim da moralidade? Jean Wyllys poderá se can...\n",
       "1   True  Kim responde para senador americano que o cham...\n",
       "2   True  Governo gasta R$ 684 mil por ano com aluguel d...\n",
       "3   True  Homem faz apelo pela internet: \"Minha esposa d...\n",
       "4   True  Polos magnéticos da Terra podem se inverter e ..."
      ]
     },
     "execution_count": 6,
     "metadata": {},
     "output_type": "execute_result"
    }
   ],
   "source": [
    "df.head()"
   ]
  },
  {
   "cell_type": "code",
   "execution_count": 7,
   "metadata": {
    "ExecuteTime": {
     "end_time": "2021-11-05T04:32:22.461422Z",
     "start_time": "2021-11-05T04:32:22.446759Z"
    }
   },
   "outputs": [
    {
     "data": {
      "text/plain": [
       "False    3600\n",
       "True     3600\n",
       "Name: label, dtype: int64"
      ]
     },
     "execution_count": 7,
     "metadata": {},
     "output_type": "execute_result"
    }
   ],
   "source": [
    "df.label.value_counts()"
   ]
  }
 ],
 "metadata": {
  "kernelspec": {
   "display_name": "Python 3",
   "language": "python",
   "name": "python3"
  },
  "language_info": {
   "codemirror_mode": {
    "name": "ipython",
    "version": 3
   },
   "file_extension": ".py",
   "mimetype": "text/x-python",
   "name": "python",
   "nbconvert_exporter": "python",
   "pygments_lexer": "ipython3",
   "version": "3.8.10"
  }
 },
 "nbformat": 4,
 "nbformat_minor": 4
}
