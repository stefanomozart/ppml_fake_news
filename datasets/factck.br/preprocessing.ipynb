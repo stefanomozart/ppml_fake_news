{
 "cells": [
  {
   "cell_type": "code",
   "execution_count": 1,
   "metadata": {
    "ExecuteTime": {
     "end_time": "2021-06-07T16:57:11.114482Z",
     "start_time": "2021-06-07T16:57:10.705074Z"
    }
   },
   "outputs": [],
   "source": [
    "import pandas as pd\n",
    "import numpy as np"
   ]
  },
  {
   "cell_type": "code",
   "execution_count": 4,
   "metadata": {
    "ExecuteTime": {
     "end_time": "2021-06-06T23:05:18.551889Z",
     "start_time": "2021-06-06T23:05:18.538489Z"
    }
   },
   "outputs": [],
   "source": [
    "import ssl\n",
    "\n",
    "try:\n",
    "    _create_unverified_https_context = ssl._create_unverified_context\n",
    "except AttributeError:\n",
    "    # Legacy Python that doesn't verify HTTPS certificates by default\n",
    "    pass\n",
    "else:\n",
    "    # Handle target environment that doesn't support HTTPS verification\n",
    "    ssl._create_default_https_context = _create_unverified_https_context\n",
    "\n",
    "import feedparser\n",
    "# To text preprocessing\n",
    "import xml.sax.saxutils as saxutils\n",
    "import ast\n",
    "import re\n",
    "# To get claimReview\n",
    "from bs4 import BeautifulSoup\n",
    "import requests\n",
    "    \n",
    "# Get links list from websites feed\n",
    "def get_articles_url(url):\n",
    "    d = feedparser.parse(url)\n",
    "    linksList = []\n",
    "    for post in d.entries: linksList.append(post.link)\n",
    "    return linksList\n",
    "\n",
    "# Save dataset to tsv file\n",
    "def save_tsv_pandas(data, file_name):\n",
    "    data.to_csv(\"./\" + file_name + \".tsv\", sep='\\t',index=True)\n",
    "\n",
    "# Load dataset from tsv file\n",
    "def load_tsv_pandas(file_name):\n",
    "    return pd.read_csv(file_name+\".tsv\", sep='\\t', index_col=0)\n",
    "\n",
    "# Update dataset. URL is primary key.\n",
    "def update_dataset(dataset, new_entries):\n",
    "    temp_df = dataset.append(new_entries)\n",
    "    temp_df = temp_df.drop_duplicates()\n",
    "    return temp_df\n",
    "\n",
    "def re_char(str):\n",
    "    return re.sub('[^A-Za-z0-9 \\!\\@\\#\\$\\%\\&\\*\\:\\,\\.\\;\\:\\-\\_\\\"\\'\\]\\[\\}\\{\\+\\á\\à\\é\\è\\í\\ì\\ó\\ò\\ú\\ù\\ã\\õ\\â\\ê\\ô\\ç\\|]+', '',str)\n",
    "\n",
    "# Text Preprocessing\n",
    "def text_pre_proc(str):\n",
    "    aux = saxutils.unescape(str.replace('&quot;', ''))\n",
    "    #remove not allowed characters\n",
    "    aux = re.sub('[^A-Za-z0-9 \\!\\@\\#\\$\\%\\&\\*\\:\\,\\.\\;\\:\\-\\_\\\"\\'\\]\\[\\}\\{\\+\\á\\à\\é\\è\\í\\ì\\ó\\ò\\ú\\ù\\ã\\õ\\â\\ê\\ô\\ç\\|]+', '',aux)\n",
    "    my_dict = ast.literal_eval(aux)\n",
    "    return my_dict\n",
    "\n",
    "# Get ClaimReview\n",
    "def get_claimReview(url):\n",
    "    response = requests.get(url, timeout=30)\n",
    "    content = BeautifulSoup(response.content, \"html.parser\")\n",
    "    claimList = []\n",
    "    for claimR in content.findAll('script', attrs={\"type\": \"application/ld+json\"}):\n",
    "        linha = []\n",
    "        try:\n",
    "            my_dict = text_pre_proc(claimR.get_text(strip=True))\n",
    "            linha.append(url)\n",
    "            linha.append(my_dict['author']['url'])\n",
    "            linha.append(my_dict['datePublished'])\n",
    "            linha.append(my_dict['claimReviewed'])\n",
    "            try: linha.append(my_dict['reviewBody'])\n",
    "            except:\n",
    "                try:\n",
    "                    linha.append(my_dict['description'])\n",
    "                except:\n",
    "                    linha.append('Empty')\n",
    "            linha.append(re_char(content.title.get_text().replace('<title>','').replace('</title>','')))\n",
    "            linha.append(my_dict['reviewRating']['ratingValue'])\n",
    "            linha.append(my_dict['reviewRating']['bestRating'])\n",
    "            linha.append(my_dict['reviewRating']['alternateName'])\n",
    "            linha.append(my_dict['itemReviewed']['@type'])\n",
    "            claimList.append(linha)\n",
    "        except:\n",
    "            pass\n",
    "    return claimList\n",
    "\n",
    "# Main Function\n",
    "def main():\n",
    "    websites = [\"https://aosfatos.org/noticias/feed/\", \"https://apublica.org/tag/truco/feed/\", \"https://piaui.folha.uol.com.br/lupa/feed/\"]\n",
    "    toprow = ['URL', 'Author', 'datePublished', 'claimReviewed', 'reviewBody', 'title', 'ratingValue', 'bestRating', 'alternativeName', 'contentType']\n",
    "    # Step 1 - Get links list of the last articles\n",
    "    linksList = []\n",
    "    for url in websites: linksList.extend(get_articles_url(url))\n",
    "    print (\"Numero de links: {}\".format(len(linksList)))\n",
    "    # Step 2 - Get Claim Review\n",
    "    claimList = []\n",
    "    count = 0\n",
    "    for url in linksList:\n",
    "        count = count + 1\n",
    "        print (\"{} de {} > \".format(count,len(linksList)) + url)\n",
    "        lineList = get_claimReview(url)\n",
    "        for line in lineList: claimList.append(line)\n",
    "    # Step 3 - Create pandas DataFrame with the new entries\n",
    "    new_entries = pd.DataFrame(claimList, columns=toprow)\n",
    "    new_entries = new_entries.set_index('URL')\n",
    "    # Step 4 - Load the old version of the dataset, update and save\n",
    "    dataset = load_tsv_pandas('factCkBr')\n",
    "    factCkBr = update_dataset(dataset, new_entries)\n",
    "    save_tsv_pandas(factCkBr, 'new_factCkBR')"
   ]
  },
  {
   "cell_type": "code",
   "execution_count": 5,
   "metadata": {
    "ExecuteTime": {
     "end_time": "2021-06-06T23:10:50.476166Z",
     "start_time": "2021-06-06T23:05:24.611668Z"
    }
   },
   "outputs": [
    {
     "name": "stdout",
     "output_type": "stream",
     "text": [
      "Numero de links: 70\n",
      "1 de 70 > https://www.aosfatos.org/noticias/em-pronunciamento-bolsonaro-infla-acoes-do-governo-durante-pandemia/\n",
      "2 de 70 > https://www.aosfatos.org/noticias/esculturas-de-olhos-sangrando-nao-foram-expostas-em-recife-mas-no-chile-em-2019/\n",
      "3 de 70 > https://www.aosfatos.org/noticias/montagem-surgida-em-2018-e-atribuida-em-posts-protestos-recentes-contra-bolsonaro/\n",
      "4 de 70 > https://www.aosfatos.org/noticias/e-falso-que-vacina-contra-covid-19-pode-criar-novas-variantes-do-coronavirus/\n",
      "5 de 70 > https://www.aosfatos.org/noticias/e-falso-que-papa-francisco-disse-que-apresentara-um-lider-global-em-2022/\n",
      "6 de 70 > https://www.aosfatos.org/noticias/ao-defender-tratamento-precoce-heinze-falseia-fatos-e-distorce-dados-na-cpi-da-covid-19/\n",
      "7 de 70 > https://www.aosfatos.org/noticias/virologista-nao-disse-que-vacinados-contra-covid-19-morrerao-em-dois-anos/\n",
      "8 de 70 > https://www.aosfatos.org/noticias/na-cpi-nise-yamaguchi-defende-tratamento-precoce-com-informacoes-enganosas/\n",
      "9 de 70 > https://www.aosfatos.org/noticias/depoente-da-cpi-da-covid-19-nise-yamaguchi-defende-cloroquina-em-167-videos-no-youtube/\n",
      "10 de 70 > https://www.aosfatos.org/noticias/foto-de-manifestacao-contra-bolsonaro-na-avenida-paulista-nao-e-antiga/\n",
      "11 de 70 > https://www.aosfatos.org/noticias/foto-de-torcida-do-flamengo-no-rio-e-atribuida-protesto-contra-bolsonaro/\n",
      "12 de 70 > https://www.aosfatos.org/noticias/e-falso-que-governo-do-ceara-nao-buscou-vacinas-enviadas-pelo-governo-federal/\n",
      "13 de 70 > https://www.aosfatos.org/noticias/aos-fatos-lanca-artefato-e-une-arte-e-jornalismo-para-combater-desinformacao-sobre-covid-19/\n",
      "14 de 70 > https://www.aosfatos.org/noticias/e-falso-que-exposicao-sobre-xuxa-recebeu-r-89-milhoes-da-lei-rouanet-em-2017/\n",
      "15 de 70 > https://www.aosfatos.org/noticias/e-falso-que-video-mostra-bolsonaro-sendo-recebido-por-apoiadores-no-equador/\n",
      "16 de 70 > https://www.aosfatos.org/noticias/manuela-davila-nao-ligou-para-adelio-bispo-no-dia-do-atentado-a-bolsonaro/\n",
      "17 de 70 > https://www.aosfatos.org/noticias/nao-e-verdade-que-mst-destruiu-laboratorio-de-vacinas-em-2015/\n",
      "18 de 70 > https://www.aosfatos.org/noticias/apos-limpa-no-youtube-leda-nagle-migra-videos-sobre-kit-covid-para-site-concorrente/\n",
      "19 de 70 > https://www.aosfatos.org/noticias/seis-perguntas-e-respostas-essenciais-sobre-vacina-contra-covid-19-da-pfizer/\n",
      "20 de 70 > https://www.aosfatos.org/noticias/video-de-funeral-encenado-foi-gravado-na-jordania-nao-na-faixa-de-gaza/\n",
      "21 de 70 > https://www.aosfatos.org/noticias/e-falso-que-governo-bolsonaro-construiu-ponte-ferroviaria-na-bahia-em-dois-anos/\n",
      "22 de 70 > https://www.aosfatos.org/noticias/foto-editada-de-passeata-em-pe-em-2012-e-falsamente-atribuida-caravana-de-lula/\n",
      "23 de 70 > https://www.aosfatos.org/noticias/mayra-pinheiro-usa-informacoes-falsas-para-defender-cloroquina-na-cpi/\n",
      "24 de 70 > https://www.aosfatos.org/noticias/videos-nao-provam-que-vacinas-contra-covid-19-causam-magnetismo-na-pele/\n",
      "25 de 70 > https://www.aosfatos.org/noticias/bolsonaro-nao-disse-que-o-isolamento-acabe-vida-volte-ao-normal-e-morram-quantos-tiverem-de-morrer/\n",
      "26 de 70 > https://www.aosfatos.org/noticias/estou-com-covid-19-e-agora-fatima-explica/\n",
      "27 de 70 > https://www.aosfatos.org/noticias/por-que-los-casos-de-covid-19-en-personas-vacunadas-no-significan-que-el-inmunizante-sea-ineficaz/\n",
      "28 de 70 > https://www.aosfatos.org/noticias/e-falso-que-lula-doou-terreno-para-hamas-construir-base-no-brasil/\n",
      "29 de 70 > https://www.aosfatos.org/noticias/em-reacao-cpi-bolsonaristas-exaltam-pazuello-criticam-renan-e-defendem-kit-covid-no-twitter/\n",
      "30 de 70 > https://www.aosfatos.org/noticias/video-e-editado-para-fazer-crer-que-lula-disse-que-negros-sao-escravos-e-vagabundos/\n",
      "31 de 70 > https://www.aosfatos.org/noticias/el-video-sobre-una-anciana-muerta-despues-de-aplicarse-la-vacuna-es-de-2018-y-la-inmunizacion-no-fue-la-causa-de-la-muerte/\n",
      "32 de 70 > https://www.aosfatos.org/noticias/lista-traz-valores-falsos-de-aposentadorias-de-politicos-e-ex-ministro-do-stf/\n",
      "33 de 70 > https://www.aosfatos.org/noticias/e-falso-que-pazuello-disse-randolfe-que-nao-foi-fardado-cpi-para-evitar-fetiche-de-gazela/\n",
      "34 de 70 > https://www.aosfatos.org/noticias/es-falso-que-pfizer-alerto-que-la-vacuna-contra-covid-19-causa-malformacion-en-feto/\n",
      "35 de 70 > https://www.aosfatos.org/noticias/explosao-forjada-em-carro-bomba-foi-gravada-no-iraque-nao-na-palestina/\n",
      "36 de 70 > https://www.aosfatos.org/noticias/acoes-do-governo-sobre-tratamento-precoce-e-transparencia-contradizem-pazuello-na-cpi/\n",
      "37 de 70 > https://www.aosfatos.org/noticias/es-falso-que-la-ivermectina-sea-mas-eficaz-que-las-vacunas-contra-la-covid-19/\n",
      "38 de 70 > https://www.aosfatos.org/noticias/posteos-sacan-de-contexto-datos-al-vincular-vacunas-con-enfermedades-oculares-en-el-reino-unido/\n",
      "39 de 70 > https://www.aosfatos.org/noticias/no-es-verdad-que-anvisa-confirma-muertes-causadas-por-las-vacunas-contra-la-covid-19/\n",
      "40 de 70 > https://www.aosfatos.org/noticias/pazuello-mente-cpi-ao-dizer-que-bolsonaro-nao-interferiu-no-ministerio-da-saude/\n",
      "41 de 70 > https://www.aosfatos.org/noticias/datos-de-la-plataforma-de-los-cdc-no-prueban-que-las-muertes-fueron-causadas-por-la-vacuna/\n",
      "42 de 70 > https://www.aosfatos.org/noticias/foto-de-tratores-nao-mostra-ato-em-apoio-bolsonaro-mas-protesto-na-holanda/\n",
      "43 de 70 > https://www.aosfatos.org/noticias/na-cpi-ernesto-araujo-mente-ao-dizer-que-nao-provocou-atritos-com-china/\n",
      "44 de 70 > https://www.aosfatos.org/noticias/bolsonaro-acumula-3000-declaracoes-falsas-ou-distorcidas-desde-o-inicio-do-mandato/\n",
      "45 de 70 > https://www.aosfatos.org/noticias/videos-de-galinhas-e-porcos-sendo-roubados-foram-gravados-na-colombia-nao-na-argentina/\n",
      "46 de 70 > https://www.aosfatos.org/noticias/es-falso-que-las-vacunas-puedan-generar-una-reaccion-letal-en-el-30-de-las-personas-inmunizadas/\n",
      "47 de 70 > https://www.aosfatos.org/noticias/e-falso-que-homem-apareceu-armado-em-reportagem-da-tv-globo-sobre-violencia-policial/\n",
      "48 de 70 > https://www.aosfatos.org/noticias/foto-de-ato-pelo-impeachment-em-2016-e-atribuida-nas-redes-manifestacao-por-bolsonaro/\n",
      "49 de 70 > https://www.aosfatos.org/noticias/justica-derruba-liminar-que-proibia-aos-fatos-de-mencionar-que-revista-oeste-publicou-desinformacao/\n",
      "50 de 70 > https://www.aosfatos.org/noticias/e-falso-que-ex-reitor-da-ufrj-desviou-r-43-milhoes-e-esta-foragido/\n",
      "51 de 70 > https://apublica.org/checagem/2018/10/truco-em-economia-bolsonaro-cita-dados-falsos-e-haddad-subestima-e-acerta/\n",
      "52 de 70 > https://apublica.org/checagem/2018/10/truco-haddad-exagera-e-bolsonaro-erra-em-frases-sobre-educacao/\n",
      "53 de 70 > https://apublica.org/checagem/2018/10/truco-pesquisa-falsa-mostra-bolsonaro-na-lideranca-em-todos-os-estados/\n",
      "54 de 70 > https://apublica.org/checagem/2018/10/truco-bolsonaro-e-haddad-erram-dados-sobre-seguranca-publica/\n",
      "55 de 70 > https://apublica.org/checagem/2018/10/truco-pesquisa-falsa-coloca-bolsonaro-com-52-e-haddad-com-48/\n",
      "56 de 70 > https://apublica.org/checagem/2018/10/truco-corrente-falsa-usa-ate-homonimo-para-inflar-processos-contra-haddad/\n",
      "57 de 70 > https://apublica.org/checagem/2018/10/truco-verdades-e-mentiras-misturam-se-em-corrente-contra-haddad/\n",
      "58 de 70 > https://apublica.org/checagem/2018/10/truco-o-que-e-falso-ou-verdadeiro-em-corrente-contra-bolsonaro/\n",
      "59 de 70 > https://apublica.org/checagem/2018/10/truco-haddad-nao-criou-o-kit-gay/\n",
      "60 de 70 > https://apublica.org/checagem/2018/10/truco-haddad-erra-historico-eleitoral-de-paulo-maluf/\n",
      "61 de 70 > https://piaui.folha.uol.com.br/lupa/2021/06/05/dia-mundial-do-meio-ambiente-projetos-de-lei/\n",
      "62 de 70 > https://piaui.folha.uol.com.br/lupa/2021/06/02/bolsonaro-pronunciamento-covid-19/\n",
      "63 de 70 > https://piaui.folha.uol.com.br/lupa/2021/06/02/cpi-covid-nise-yamaguchi-medica/\n",
      "64 de 70 > https://piaui.folha.uol.com.br/lupa/2021/06/02/verificamos-fauci-coronavirus/\n",
      "65 de 70 > https://piaui.folha.uol.com.br/lupa/2021/06/02/verificamosimagens-antigas-manipuladas-protestos/\n",
      "66 de 70 > https://piaui.folha.uol.com.br/lupa/2021/06/01/verificamos-recife-olhos-sangrando/\n",
      "67 de 70 > https://piaui.folha.uol.com.br/lupa/2021/06/01/verificamos-homenagem-bolsonaro-fox/\n",
      "68 de 70 > https://piaui.folha.uol.com.br/lupa/2021/06/01/verificamos-virologista-einstein/\n"
     ]
    },
    {
     "name": "stdout",
     "output_type": "stream",
     "text": [
      "69 de 70 > https://piaui.folha.uol.com.br/lupa/2021/06/01/dia-imprensa-bolsonaro-ataque/\n",
      "70 de 70 > https://piaui.folha.uol.com.br/lupa/2021/05/31/verificamos-aeroporto-bolsonaro-equador/\n"
     ]
    }
   ],
   "source": [
    "main()"
   ]
  },
  {
   "cell_type": "code",
   "execution_count": 3,
   "metadata": {
    "ExecuteTime": {
     "end_time": "2021-06-07T16:57:24.311737Z",
     "start_time": "2021-06-07T16:57:24.263415Z"
    }
   },
   "outputs": [
    {
     "name": "stdout",
     "output_type": "stream",
     "text": [
      "<class 'pandas.core.frame.DataFrame'>\n",
      "RangeIndex: 1313 entries, 0 to 1312\n",
      "Data columns (total 10 columns):\n",
      " #   Column           Non-Null Count  Dtype  \n",
      "---  ------           --------------  -----  \n",
      " 0   URL              1313 non-null   object \n",
      " 1   Author           1313 non-null   object \n",
      " 2   datePublished    1313 non-null   object \n",
      " 3   claimReviewed    1300 non-null   object \n",
      " 4   reviewBody       1301 non-null   object \n",
      " 5   title            1313 non-null   object \n",
      " 6   ratingValue      1309 non-null   float64\n",
      " 7   bestRating       1313 non-null   int64  \n",
      " 8   alternativeName  1309 non-null   object \n",
      " 9   contentType      0 non-null      float64\n",
      "dtypes: float64(2), int64(1), object(7)\n",
      "memory usage: 102.7+ KB\n"
     ]
    }
   ],
   "source": [
    "df = pd.read_csv(\"new_factCkBR.tsv\", sep='\\t', index_col=0).reset_index()\n",
    "df.info()"
   ]
  },
  {
   "cell_type": "code",
   "execution_count": 7,
   "metadata": {
    "ExecuteTime": {
     "end_time": "2021-06-07T00:01:54.151814Z",
     "start_time": "2021-06-07T00:01:54.147277Z"
    }
   },
   "outputs": [
    {
     "data": {
      "text/plain": [
       "https:piaui.folha.uol.com.brlupa    528\n",
       "https:apublica.org                  415\n",
       "https:www.aosfatos.org              370\n",
       "Name: Author, dtype: int64"
      ]
     },
     "execution_count": 7,
     "metadata": {},
     "output_type": "execute_result"
    }
   ],
   "source": [
    "df.Author.value_counts()"
   ]
  },
  {
   "cell_type": "code",
   "execution_count": 8,
   "metadata": {
    "ExecuteTime": {
     "end_time": "2021-06-07T00:01:56.510609Z",
     "start_time": "2021-06-07T00:01:56.505727Z"
    }
   },
   "outputs": [],
   "source": [
    "df.loc[df.claimReviewed.isna(), 'claimReviewed'] = df.loc[df.claimReviewed.isna()].title"
   ]
  },
  {
   "cell_type": "code",
   "execution_count": 9,
   "metadata": {
    "ExecuteTime": {
     "end_time": "2021-06-07T00:01:58.462258Z",
     "start_time": "2021-06-07T00:01:58.457406Z"
    }
   },
   "outputs": [
    {
     "data": {
      "text/plain": [
       "False    1313\n",
       "Name: claimReviewed, dtype: int64"
      ]
     },
     "execution_count": 9,
     "metadata": {},
     "output_type": "execute_result"
    }
   ],
   "source": [
    "df.claimReviewed.isna().value_counts()"
   ]
  },
  {
   "cell_type": "code",
   "execution_count": 10,
   "metadata": {
    "ExecuteTime": {
     "end_time": "2021-06-07T00:02:07.932248Z",
     "start_time": "2021-06-07T00:02:07.926081Z"
    }
   },
   "outputs": [
    {
     "data": {
      "text/plain": [
       "Falso                      615\n",
       "falso                      328\n",
       "Verdadeiro                 119\n",
       "Exagerado                   87\n",
       "Sem contexto                42\n",
       "distorcido                  29\n",
       "Distorcido                  25\n",
       "Impossível provar           20\n",
       "Discutível                  12\n",
       "Ainda é cedo para dizer      6\n",
       "Subestimado                  6\n",
       "insustentável                5\n",
       "exagerado                    4\n",
       "Verdadeiro, mas              4\n",
       "De olho                      3\n",
       "impreciso                    2\n",
       "outros                       1\n",
       "verdadeiro                   1\n",
       "Name: alternativeName, dtype: int64"
      ]
     },
     "execution_count": 10,
     "metadata": {},
     "output_type": "execute_result"
    }
   ],
   "source": [
    "df.alternativeName.value_counts()"
   ]
  },
  {
   "cell_type": "code",
   "execution_count": 11,
   "metadata": {
    "ExecuteTime": {
     "end_time": "2021-06-07T00:02:12.567643Z",
     "start_time": "2021-06-07T00:02:12.562535Z"
    }
   },
   "outputs": [],
   "source": [
    "fake = {\n",
    "    'Falso'                   : True,\n",
    "    'falso'                   : True,\n",
    "    'Verdadeiro'              : False,\n",
    "    'Exagerado'               : False,\n",
    "    'Sem contexto'            : False,\n",
    "    'distorcido'              : True,\n",
    "    'Distorcido'              : True,\n",
    "    'Impossível provar'       : True,\n",
    "    'Discutível'              : False,\n",
    "    'Subestimado'             : False,\n",
    "    'Ainda é cedo para dizer' : False,\n",
    "    'insustentável'           : True,\n",
    "    'Verdadeiro, mas'         : False,\n",
    "    'exagerado'               : False,\n",
    "    'De olho'                 : False,\n",
    "    'impreciso'               : True,\n",
    "    'verdadeiro'              : False,\n",
    "    'outros'                  : False,\n",
    "}\n",
    "\n",
    "df['label'] = df.alternativeName.map(fake)"
   ]
  },
  {
   "cell_type": "code",
   "execution_count": 12,
   "metadata": {
    "ExecuteTime": {
     "end_time": "2021-06-07T00:02:13.659293Z",
     "start_time": "2021-06-07T00:02:13.644044Z"
    }
   },
   "outputs": [
    {
     "data": {
      "text/html": [
       "<div>\n",
       "<style scoped>\n",
       "    .dataframe tbody tr th:only-of-type {\n",
       "        vertical-align: middle;\n",
       "    }\n",
       "\n",
       "    .dataframe tbody tr th {\n",
       "        vertical-align: top;\n",
       "    }\n",
       "\n",
       "    .dataframe thead th {\n",
       "        text-align: right;\n",
       "    }\n",
       "</style>\n",
       "<table border=\"1\" class=\"dataframe\">\n",
       "  <thead>\n",
       "    <tr style=\"text-align: right;\">\n",
       "      <th></th>\n",
       "      <th>URL</th>\n",
       "      <th>Author</th>\n",
       "      <th>datePublished</th>\n",
       "      <th>claimReviewed</th>\n",
       "      <th>reviewBody</th>\n",
       "      <th>title</th>\n",
       "      <th>ratingValue</th>\n",
       "      <th>bestRating</th>\n",
       "      <th>alternativeName</th>\n",
       "      <th>contentType</th>\n",
       "      <th>label</th>\n",
       "    </tr>\n",
       "  </thead>\n",
       "  <tbody>\n",
       "    <tr>\n",
       "      <th>471</th>\n",
       "      <td>https://apublica.org/2018/08/truco-erros-e-ace...</td>\n",
       "      <td>https:apublica.org</td>\n",
       "      <td>2018-08-15</td>\n",
       "      <td>'Ninguém tem qualquer comprovação de que os 12...</td>\n",
       "      <td>Jair Bolsonaro PSL, no programa Mariana Godoy ...</td>\n",
       "      <td>Erros e acertos dos candidatos em 5 frases sob...</td>\n",
       "      <td>NaN</td>\n",
       "      <td>8</td>\n",
       "      <td>NaN</td>\n",
       "      <td>NaN</td>\n",
       "      <td>NaN</td>\n",
       "    </tr>\n",
       "    <tr>\n",
       "      <th>550</th>\n",
       "      <td>https://apublica.org/2018/05/truco-em-artigo-e...</td>\n",
       "      <td>https:apublica.org</td>\n",
       "      <td>2018-05-25</td>\n",
       "      <td>Os investimentos em pesquisa desabaram.</td>\n",
       "      <td>Em artigo no 'Le Monde', o ex-presidente Luiz ...</td>\n",
       "      <td>Em artigo escrito da prisão, Lula distorce dad...</td>\n",
       "      <td>NaN</td>\n",
       "      <td>8</td>\n",
       "      <td>NaN</td>\n",
       "      <td>NaN</td>\n",
       "      <td>NaN</td>\n",
       "    </tr>\n",
       "    <tr>\n",
       "      <th>559</th>\n",
       "      <td>https://apublica.org/2018/05/truco-temer-minim...</td>\n",
       "      <td>https:apublica.org</td>\n",
       "      <td>2018-05-09</td>\n",
       "      <td>Temer minimiza desemprego com dados falsos - A...</td>\n",
       "      <td>NaN</td>\n",
       "      <td>Temer minimiza desemprego com dados falsos - A...</td>\n",
       "      <td>NaN</td>\n",
       "      <td>8</td>\n",
       "      <td>NaN</td>\n",
       "      <td>NaN</td>\n",
       "      <td>NaN</td>\n",
       "    </tr>\n",
       "    <tr>\n",
       "      <th>748</th>\n",
       "      <td>https://apublica.org/2016/06/truco-verdades-e-...</td>\n",
       "      <td>https:apublica.org</td>\n",
       "      <td>2016-06-03</td>\n",
       "      <td>Neste momento em que temos um déficit  foi apr...</td>\n",
       "      <td>O deputado federal Nelson Marchezan Jr. PSDB-R...</td>\n",
       "      <td>Verdades e mentiras sobre o pacotão de reajust...</td>\n",
       "      <td>NaN</td>\n",
       "      <td>8</td>\n",
       "      <td>NaN</td>\n",
       "      <td>NaN</td>\n",
       "      <td>NaN</td>\n",
       "    </tr>\n",
       "  </tbody>\n",
       "</table>\n",
       "</div>"
      ],
      "text/plain": [
       "                                                   URL              Author  \\\n",
       "471  https://apublica.org/2018/08/truco-erros-e-ace...  https:apublica.org   \n",
       "550  https://apublica.org/2018/05/truco-em-artigo-e...  https:apublica.org   \n",
       "559  https://apublica.org/2018/05/truco-temer-minim...  https:apublica.org   \n",
       "748  https://apublica.org/2016/06/truco-verdades-e-...  https:apublica.org   \n",
       "\n",
       "    datePublished                                      claimReviewed  \\\n",
       "471    2018-08-15  'Ninguém tem qualquer comprovação de que os 12...   \n",
       "550    2018-05-25            Os investimentos em pesquisa desabaram.   \n",
       "559    2018-05-09  Temer minimiza desemprego com dados falsos - A...   \n",
       "748    2016-06-03  Neste momento em que temos um déficit  foi apr...   \n",
       "\n",
       "                                            reviewBody  \\\n",
       "471  Jair Bolsonaro PSL, no programa Mariana Godoy ...   \n",
       "550  Em artigo no 'Le Monde', o ex-presidente Luiz ...   \n",
       "559                                                NaN   \n",
       "748  O deputado federal Nelson Marchezan Jr. PSDB-R...   \n",
       "\n",
       "                                                 title  ratingValue  \\\n",
       "471  Erros e acertos dos candidatos em 5 frases sob...          NaN   \n",
       "550  Em artigo escrito da prisão, Lula distorce dad...          NaN   \n",
       "559  Temer minimiza desemprego com dados falsos - A...          NaN   \n",
       "748  Verdades e mentiras sobre o pacotão de reajust...          NaN   \n",
       "\n",
       "     bestRating alternativeName  contentType label  \n",
       "471           8             NaN          NaN   NaN  \n",
       "550           8             NaN          NaN   NaN  \n",
       "559           8             NaN          NaN   NaN  \n",
       "748           8             NaN          NaN   NaN  "
      ]
     },
     "execution_count": 12,
     "metadata": {},
     "output_type": "execute_result"
    }
   ],
   "source": [
    "df.loc[df.label.isna()]"
   ]
  },
  {
   "cell_type": "code",
   "execution_count": 13,
   "metadata": {
    "ExecuteTime": {
     "end_time": "2021-06-07T00:02:27.021410Z",
     "start_time": "2021-06-07T00:02:27.018525Z"
    }
   },
   "outputs": [],
   "source": [
    "df.label.fillna(True, inplace=True)"
   ]
  },
  {
   "cell_type": "code",
   "execution_count": 14,
   "metadata": {
    "ExecuteTime": {
     "end_time": "2021-06-07T00:02:29.454003Z",
     "start_time": "2021-06-07T00:02:29.451308Z"
    }
   },
   "outputs": [],
   "source": [
    "df.rename(columns={'claimReviewed': 'text'}, inplace=True)"
   ]
  },
  {
   "cell_type": "code",
   "execution_count": 15,
   "metadata": {
    "ExecuteTime": {
     "end_time": "2021-06-07T00:02:32.877899Z",
     "start_time": "2021-06-07T00:02:32.867493Z"
    }
   },
   "outputs": [
    {
     "data": {
      "text/html": [
       "<div>\n",
       "<style scoped>\n",
       "    .dataframe tbody tr th:only-of-type {\n",
       "        vertical-align: middle;\n",
       "    }\n",
       "\n",
       "    .dataframe tbody tr th {\n",
       "        vertical-align: top;\n",
       "    }\n",
       "\n",
       "    .dataframe thead th {\n",
       "        text-align: right;\n",
       "    }\n",
       "</style>\n",
       "<table border=\"1\" class=\"dataframe\">\n",
       "  <thead>\n",
       "    <tr style=\"text-align: right;\">\n",
       "      <th></th>\n",
       "      <th>URL</th>\n",
       "      <th>Author</th>\n",
       "      <th>datePublished</th>\n",
       "      <th>text</th>\n",
       "      <th>reviewBody</th>\n",
       "      <th>title</th>\n",
       "      <th>ratingValue</th>\n",
       "      <th>bestRating</th>\n",
       "      <th>alternativeName</th>\n",
       "      <th>contentType</th>\n",
       "      <th>label</th>\n",
       "    </tr>\n",
       "  </thead>\n",
       "  <tbody>\n",
       "    <tr>\n",
       "      <th>0</th>\n",
       "      <td>https://aosfatos.org/noticias/governo-bolsonar...</td>\n",
       "      <td>https:www.aosfatos.org</td>\n",
       "      <td>2019-07-22</td>\n",
       "      <td>Espaço dedicado para os eleitores do Bolsonaro...</td>\n",
       "      <td>Publicações que circulam nas redes sociais vej...</td>\n",
       "      <td>Governo Bolsonaro não suspendeu distribuição d...</td>\n",
       "      <td>1.0</td>\n",
       "      <td>5</td>\n",
       "      <td>falso</td>\n",
       "      <td>NaN</td>\n",
       "      <td>True</td>\n",
       "    </tr>\n",
       "    <tr>\n",
       "      <th>1</th>\n",
       "      <td>https://aosfatos.org/noticias/nao-e-miriam-lei...</td>\n",
       "      <td>https:www.aosfatos.org</td>\n",
       "      <td>2019-07-22</td>\n",
       "      <td>Vos apresento a funcionária protegida pela Glo...</td>\n",
       "      <td>Uma foto de um treinamento de defesa contra as...</td>\n",
       "      <td>Não é Miriam Leitão quem segura fuzil ao lado ...</td>\n",
       "      <td>1.0</td>\n",
       "      <td>5</td>\n",
       "      <td>falso</td>\n",
       "      <td>NaN</td>\n",
       "      <td>True</td>\n",
       "    </tr>\n",
       "  </tbody>\n",
       "</table>\n",
       "</div>"
      ],
      "text/plain": [
       "                                                 URL                  Author  \\\n",
       "0  https://aosfatos.org/noticias/governo-bolsonar...  https:www.aosfatos.org   \n",
       "1  https://aosfatos.org/noticias/nao-e-miriam-lei...  https:www.aosfatos.org   \n",
       "\n",
       "  datePublished                                               text  \\\n",
       "0    2019-07-22  Espaço dedicado para os eleitores do Bolsonaro...   \n",
       "1    2019-07-22  Vos apresento a funcionária protegida pela Glo...   \n",
       "\n",
       "                                          reviewBody  \\\n",
       "0  Publicações que circulam nas redes sociais vej...   \n",
       "1  Uma foto de um treinamento de defesa contra as...   \n",
       "\n",
       "                                               title  ratingValue  bestRating  \\\n",
       "0  Governo Bolsonaro não suspendeu distribuição d...          1.0           5   \n",
       "1  Não é Miriam Leitão quem segura fuzil ao lado ...          1.0           5   \n",
       "\n",
       "  alternativeName  contentType  label  \n",
       "0           falso          NaN   True  \n",
       "1           falso          NaN   True  "
      ]
     },
     "execution_count": 15,
     "metadata": {},
     "output_type": "execute_result"
    }
   ],
   "source": [
    "df.head(2)"
   ]
  },
  {
   "cell_type": "code",
   "execution_count": 16,
   "metadata": {
    "ExecuteTime": {
     "end_time": "2021-06-07T00:02:34.159031Z",
     "start_time": "2021-06-07T00:02:34.147221Z"
    }
   },
   "outputs": [],
   "source": [
    "df[['label', 'text']].to_csv('factck.br.csv', index=False)"
   ]
  },
  {
   "cell_type": "code",
   "execution_count": 1,
   "metadata": {
    "ExecuteTime": {
     "end_time": "2021-11-05T04:54:46.845582Z",
     "start_time": "2021-11-05T04:54:46.622015Z"
    }
   },
   "outputs": [
    {
     "data": {
      "text/plain": [
       "(1313, 2)"
      ]
     },
     "execution_count": 1,
     "metadata": {},
     "output_type": "execute_result"
    }
   ],
   "source": [
    "import pandas as pd\n",
    "\n",
    "df = pd.read_csv('factck.br.csv')\n",
    "df.shape"
   ]
  },
  {
   "cell_type": "code",
   "execution_count": 2,
   "metadata": {
    "ExecuteTime": {
     "end_time": "2021-11-05T04:54:48.882519Z",
     "start_time": "2021-11-05T04:54:48.874739Z"
    }
   },
   "outputs": [
    {
     "data": {
      "text/plain": [
       "False    1313\n",
       "Name: label, dtype: int64"
      ]
     },
     "execution_count": 2,
     "metadata": {},
     "output_type": "execute_result"
    }
   ],
   "source": [
    "df.label.isna().value_counts()"
   ]
  },
  {
   "cell_type": "code",
   "execution_count": 3,
   "metadata": {
    "ExecuteTime": {
     "end_time": "2021-11-05T04:54:52.465296Z",
     "start_time": "2021-11-05T04:54:52.458902Z"
    }
   },
   "outputs": [
    {
     "data": {
      "text/plain": [
       "True     1028\n",
       "False     285\n",
       "Name: label, dtype: int64"
      ]
     },
     "execution_count": 3,
     "metadata": {},
     "output_type": "execute_result"
    }
   ],
   "source": [
    "df.label.value_counts()"
   ]
  }
 ],
 "metadata": {
  "kernelspec": {
   "display_name": "Python 3",
   "language": "python",
   "name": "python3"
  },
  "language_info": {
   "codemirror_mode": {
    "name": "ipython",
    "version": 3
   },
   "file_extension": ".py",
   "mimetype": "text/x-python",
   "name": "python",
   "nbconvert_exporter": "python",
   "pygments_lexer": "ipython3",
   "version": "3.8.10"
  }
 },
 "nbformat": 4,
 "nbformat_minor": 4
}
