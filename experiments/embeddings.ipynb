{
 "cells": [
  {
   "cell_type": "markdown",
   "metadata": {},
   "source": [
    "# Fake News Detection: an application of classic NLP techniques\n",
    "**Universidade de Brasília**<br>\n",
    "School of Technology<br>\n",
    "Graduate Program in Electrical Engineering (PPGEE)\n",
    "\n",
    "## Author: Stefano M P C Souza (stefanomozart@ieee.org)<br> Advisor: Daniel G Silva<br>Advisor: Anderson C A Nascimento\n",
    "\n"
   ]
  },
  {
   "cell_type": "code",
   "execution_count": 1,
   "metadata": {
    "ExecuteTime": {
     "end_time": "2022-01-10T14:50:51.559310Z",
     "start_time": "2022-01-10T14:50:49.768428Z"
    }
   },
   "outputs": [],
   "source": [
    "from sentence_transformers import SentenceTransformer\n",
    "import time\n",
    "import numpy as np\n",
    "import torch"
   ]
  },
  {
   "cell_type": "code",
   "execution_count": 2,
   "metadata": {
    "ExecuteTime": {
     "end_time": "2022-01-10T14:50:53.761759Z",
     "start_time": "2022-01-10T14:50:53.258127Z"
    }
   },
   "outputs": [],
   "source": [
    "import joblib\n",
    "datasets = joblib.load('datasets.pyd')\n",
    "experiments = joblib.load('experiments.pyd')"
   ]
  },
  {
   "cell_type": "code",
   "execution_count": 3,
   "metadata": {
    "ExecuteTime": {
     "end_time": "2022-01-10T02:27:18.460253Z",
     "start_time": "2022-01-10T02:27:18.457019Z"
    }
   },
   "outputs": [],
   "source": [
    "# Expanding the NLP preprocessing experiments map, in order to compare runtimes\n",
    "experiments['E11'] = {'preprocessing_time': {}, 'name': 'stsb-distilbert-base'}\n",
    "experiments['E12'] = {'preprocessing_time': {}, 'name': 'paraphrase-multilingual-mpnet-base-v2'}"
   ]
  },
  {
   "cell_type": "code",
   "execution_count": 4,
   "metadata": {
    "ExecuteTime": {
     "end_time": "2022-01-10T02:38:40.454635Z",
     "start_time": "2022-01-10T02:27:19.269983Z"
    }
   },
   "outputs": [
    {
     "name": "stdout",
     "output_type": "stream",
     "text": [
      "stsb-distilbert-base liar\n"
     ]
    },
    {
     "data": {
      "application/vnd.jupyter.widget-view+json": {
       "model_id": "b6480bb294164044a678699d7089111a",
       "version_major": 2,
       "version_minor": 0
      },
      "text/plain": [
       "Batches:   0%|          | 0/256 [00:00<?, ?it/s]"
      ]
     },
     "metadata": {},
     "output_type": "display_data"
    },
    {
     "data": {
      "application/vnd.jupyter.widget-view+json": {
       "model_id": "ebfef6890e0240f7b6afab82dd226cf9",
       "version_major": 2,
       "version_minor": 0
      },
      "text/plain": [
       "Batches:   0%|          | 0/64 [00:00<?, ?it/s]"
      ]
     },
     "metadata": {},
     "output_type": "display_data"
    },
    {
     "data": {
      "application/vnd.jupyter.widget-view+json": {
       "model_id": "8d78e555317549b38a6b47f2cf889796",
       "version_major": 2,
       "version_minor": 0
      },
      "text/plain": [
       "Batches:   0%|          | 0/320 [00:00<?, ?it/s]"
      ]
     },
     "metadata": {},
     "output_type": "display_data"
    },
    {
     "data": {
      "application/vnd.jupyter.widget-view+json": {
       "model_id": "a5fdff61615849db8a9deca6f99d2f83",
       "version_major": 2,
       "version_minor": 0
      },
      "text/plain": [
       "Batches:   0%|          | 0/80 [00:00<?, ?it/s]"
      ]
     },
     "metadata": {},
     "output_type": "display_data"
    },
    {
     "name": "stdout",
     "output_type": "stream",
     "text": [
      "stsb-distilbert-base sbnc\n"
     ]
    },
    {
     "data": {
      "application/vnd.jupyter.widget-view+json": {
       "model_id": "c73952c9589f44018a9e7f3f9e992e1e",
       "version_major": 2,
       "version_minor": 0
      },
      "text/plain": [
       "Batches:   0%|          | 0/41 [00:00<?, ?it/s]"
      ]
     },
     "metadata": {},
     "output_type": "display_data"
    },
    {
     "data": {
      "application/vnd.jupyter.widget-view+json": {
       "model_id": "c54cceea8c17489daf13c45bb34a1d88",
       "version_major": 2,
       "version_minor": 0
      },
      "text/plain": [
       "Batches:   0%|          | 0/11 [00:00<?, ?it/s]"
      ]
     },
     "metadata": {},
     "output_type": "display_data"
    },
    {
     "data": {
      "application/vnd.jupyter.widget-view+json": {
       "model_id": "e0b740e186784eb0a71086e32be67de1",
       "version_major": 2,
       "version_minor": 0
      },
      "text/plain": [
       "Batches:   0%|          | 0/51 [00:00<?, ?it/s]"
      ]
     },
     "metadata": {},
     "output_type": "display_data"
    },
    {
     "data": {
      "application/vnd.jupyter.widget-view+json": {
       "model_id": "63538d1de79e423daecfce916ed78295",
       "version_major": 2,
       "version_minor": 0
      },
      "text/plain": [
       "Batches:   0%|          | 0/13 [00:00<?, ?it/s]"
      ]
     },
     "metadata": {},
     "output_type": "display_data"
    },
    {
     "name": "stdout",
     "output_type": "stream",
     "text": [
      "stsb-distilbert-base fake.br\n"
     ]
    },
    {
     "data": {
      "application/vnd.jupyter.widget-view+json": {
       "model_id": "b8a3364dbefd416583f83668e0f3f267",
       "version_major": 2,
       "version_minor": 0
      },
      "text/plain": [
       "Batches:   0%|          | 0/144 [00:00<?, ?it/s]"
      ]
     },
     "metadata": {},
     "output_type": "display_data"
    },
    {
     "data": {
      "application/vnd.jupyter.widget-view+json": {
       "model_id": "c2fe4f2c042140ed9ed20548d33b4542",
       "version_major": 2,
       "version_minor": 0
      },
      "text/plain": [
       "Batches:   0%|          | 0/36 [00:00<?, ?it/s]"
      ]
     },
     "metadata": {},
     "output_type": "display_data"
    },
    {
     "data": {
      "application/vnd.jupyter.widget-view+json": {
       "model_id": "4966872a250349a9b266cd55072215fc",
       "version_major": 2,
       "version_minor": 0
      },
      "text/plain": [
       "Batches:   0%|          | 0/180 [00:00<?, ?it/s]"
      ]
     },
     "metadata": {},
     "output_type": "display_data"
    },
    {
     "data": {
      "application/vnd.jupyter.widget-view+json": {
       "model_id": "ce889e5e9d934d8886dc59598471d4a2",
       "version_major": 2,
       "version_minor": 0
      },
      "text/plain": [
       "Batches:   0%|          | 0/45 [00:00<?, ?it/s]"
      ]
     },
     "metadata": {},
     "output_type": "display_data"
    },
    {
     "name": "stdout",
     "output_type": "stream",
     "text": [
      "stsb-distilbert-base factck.br\n"
     ]
    },
    {
     "data": {
      "application/vnd.jupyter.widget-view+json": {
       "model_id": "ab5ccf9dac7a4a689950ecb924594743",
       "version_major": 2,
       "version_minor": 0
      },
      "text/plain": [
       "Batches:   0%|          | 0/27 [00:00<?, ?it/s]"
      ]
     },
     "metadata": {},
     "output_type": "display_data"
    },
    {
     "data": {
      "application/vnd.jupyter.widget-view+json": {
       "model_id": "bff75e71ba51482180205288d4ae3313",
       "version_major": 2,
       "version_minor": 0
      },
      "text/plain": [
       "Batches:   0%|          | 0/7 [00:00<?, ?it/s]"
      ]
     },
     "metadata": {},
     "output_type": "display_data"
    },
    {
     "data": {
      "application/vnd.jupyter.widget-view+json": {
       "model_id": "5929c0095fcb45d78d9d559ab039c995",
       "version_major": 2,
       "version_minor": 0
      },
      "text/plain": [
       "Batches:   0%|          | 0/33 [00:00<?, ?it/s]"
      ]
     },
     "metadata": {},
     "output_type": "display_data"
    },
    {
     "data": {
      "application/vnd.jupyter.widget-view+json": {
       "model_id": "56e27a0106024c6e8a2fd1c8d4bab911",
       "version_major": 2,
       "version_minor": 0
      },
      "text/plain": [
       "Batches:   0%|          | 0/9 [00:00<?, ?it/s]"
      ]
     },
     "metadata": {},
     "output_type": "display_data"
    },
    {
     "name": "stdout",
     "output_type": "stream",
     "text": [
      "paraphrase-multilingual-mpnet-base-v2 liar\n"
     ]
    },
    {
     "data": {
      "application/vnd.jupyter.widget-view+json": {
       "model_id": "81e99347a6054d6d9de0a27a178c98cc",
       "version_major": 2,
       "version_minor": 0
      },
      "text/plain": [
       "Batches:   0%|          | 0/256 [00:00<?, ?it/s]"
      ]
     },
     "metadata": {},
     "output_type": "display_data"
    },
    {
     "data": {
      "application/vnd.jupyter.widget-view+json": {
       "model_id": "4123990b076c422f9ba1783758beaf47",
       "version_major": 2,
       "version_minor": 0
      },
      "text/plain": [
       "Batches:   0%|          | 0/64 [00:00<?, ?it/s]"
      ]
     },
     "metadata": {},
     "output_type": "display_data"
    },
    {
     "data": {
      "application/vnd.jupyter.widget-view+json": {
       "model_id": "bc58baf88b4f40c79f9de56a09e04eb3",
       "version_major": 2,
       "version_minor": 0
      },
      "text/plain": [
       "Batches:   0%|          | 0/320 [00:00<?, ?it/s]"
      ]
     },
     "metadata": {},
     "output_type": "display_data"
    },
    {
     "data": {
      "application/vnd.jupyter.widget-view+json": {
       "model_id": "64ab79c571664e90914eca32d8c58b3e",
       "version_major": 2,
       "version_minor": 0
      },
      "text/plain": [
       "Batches:   0%|          | 0/80 [00:00<?, ?it/s]"
      ]
     },
     "metadata": {},
     "output_type": "display_data"
    },
    {
     "name": "stdout",
     "output_type": "stream",
     "text": [
      "paraphrase-multilingual-mpnet-base-v2 sbnc\n"
     ]
    },
    {
     "data": {
      "application/vnd.jupyter.widget-view+json": {
       "model_id": "ecddaf855d0c418098009bc3d5aac0c2",
       "version_major": 2,
       "version_minor": 0
      },
      "text/plain": [
       "Batches:   0%|          | 0/41 [00:00<?, ?it/s]"
      ]
     },
     "metadata": {},
     "output_type": "display_data"
    },
    {
     "data": {
      "application/vnd.jupyter.widget-view+json": {
       "model_id": "0f8e838f09b1485f98ee518819af08d1",
       "version_major": 2,
       "version_minor": 0
      },
      "text/plain": [
       "Batches:   0%|          | 0/11 [00:00<?, ?it/s]"
      ]
     },
     "metadata": {},
     "output_type": "display_data"
    },
    {
     "data": {
      "application/vnd.jupyter.widget-view+json": {
       "model_id": "3ccf34c1c33c4e95aaad6adb83895b74",
       "version_major": 2,
       "version_minor": 0
      },
      "text/plain": [
       "Batches:   0%|          | 0/51 [00:00<?, ?it/s]"
      ]
     },
     "metadata": {},
     "output_type": "display_data"
    },
    {
     "data": {
      "application/vnd.jupyter.widget-view+json": {
       "model_id": "203db1dc964c4508ac7ca24faa297d38",
       "version_major": 2,
       "version_minor": 0
      },
      "text/plain": [
       "Batches:   0%|          | 0/13 [00:00<?, ?it/s]"
      ]
     },
     "metadata": {},
     "output_type": "display_data"
    },
    {
     "name": "stdout",
     "output_type": "stream",
     "text": [
      "paraphrase-multilingual-mpnet-base-v2 fake.br\n"
     ]
    },
    {
     "data": {
      "application/vnd.jupyter.widget-view+json": {
       "model_id": "399635b3577044e08f869c196459ea96",
       "version_major": 2,
       "version_minor": 0
      },
      "text/plain": [
       "Batches:   0%|          | 0/144 [00:00<?, ?it/s]"
      ]
     },
     "metadata": {},
     "output_type": "display_data"
    },
    {
     "data": {
      "application/vnd.jupyter.widget-view+json": {
       "model_id": "b2be6ab37a0e4a348200f49bb542fa5d",
       "version_major": 2,
       "version_minor": 0
      },
      "text/plain": [
       "Batches:   0%|          | 0/36 [00:00<?, ?it/s]"
      ]
     },
     "metadata": {},
     "output_type": "display_data"
    },
    {
     "data": {
      "application/vnd.jupyter.widget-view+json": {
       "model_id": "376d9537a714482cbc76ca155d49be3a",
       "version_major": 2,
       "version_minor": 0
      },
      "text/plain": [
       "Batches:   0%|          | 0/180 [00:00<?, ?it/s]"
      ]
     },
     "metadata": {},
     "output_type": "display_data"
    },
    {
     "data": {
      "application/vnd.jupyter.widget-view+json": {
       "model_id": "cd44aa2187f64085937198243c157060",
       "version_major": 2,
       "version_minor": 0
      },
      "text/plain": [
       "Batches:   0%|          | 0/45 [00:00<?, ?it/s]"
      ]
     },
     "metadata": {},
     "output_type": "display_data"
    },
    {
     "name": "stdout",
     "output_type": "stream",
     "text": [
      "paraphrase-multilingual-mpnet-base-v2 factck.br\n"
     ]
    },
    {
     "data": {
      "application/vnd.jupyter.widget-view+json": {
       "model_id": "aca35b0e773747c7b2922102ab32c656",
       "version_major": 2,
       "version_minor": 0
      },
      "text/plain": [
       "Batches:   0%|          | 0/27 [00:00<?, ?it/s]"
      ]
     },
     "metadata": {},
     "output_type": "display_data"
    },
    {
     "data": {
      "application/vnd.jupyter.widget-view+json": {
       "model_id": "afc8bebe872841f096a509f5cad03ca2",
       "version_major": 2,
       "version_minor": 0
      },
      "text/plain": [
       "Batches:   0%|          | 0/7 [00:00<?, ?it/s]"
      ]
     },
     "metadata": {},
     "output_type": "display_data"
    },
    {
     "data": {
      "application/vnd.jupyter.widget-view+json": {
       "model_id": "96a098d121a34f768999c0699d6cbd3b",
       "version_major": 2,
       "version_minor": 0
      },
      "text/plain": [
       "Batches:   0%|          | 0/33 [00:00<?, ?it/s]"
      ]
     },
     "metadata": {},
     "output_type": "display_data"
    },
    {
     "data": {
      "application/vnd.jupyter.widget-view+json": {
       "model_id": "04de224e362d4091a1ab0bffdf409f69",
       "version_major": 2,
       "version_minor": 0
      },
      "text/plain": [
       "Batches:   0%|          | 0/9 [00:00<?, ?it/s]"
      ]
     },
     "metadata": {},
     "output_type": "display_data"
    },
    {
     "data": {
      "text/plain": [
       "['experiments.pyd']"
      ]
     },
     "execution_count": 9,
     "metadata": {},
     "output_type": "execute_result"
    }
   ],
   "source": [
    "# Encode texts\n",
    "for name in ['stsb-distilbert-base', 'paraphrase-multilingual-mpnet-base-v2']:\n",
    "    t = SentenceTransformer(name)\n",
    "    for d in datasets:\n",
    "        print(name, d['name'])\n",
    "\n",
    "        # Mark start time\n",
    "        start = time.process_time()\n",
    "        \n",
    "        # Encode train, valid, test and train_valid sets\n",
    "        train = t.encode(d['train'].text.tolist(), show_progress_bar=True)\n",
    "        valid = t.encode(d['valid'].text.tolist(), show_progress_bar=True)\n",
    "        train_valid = t.encode(d['train.valid'].text.tolist(), show_progress_bar=True)\n",
    "        test = t.encode(d['test'].text.tolist(), show_progress_bar=True)\n",
    "        \n",
    "        # Compute elapsed time\n",
    "        experiments[e]['preprocessing_time'][d['name']] = time.process_time() - start\n",
    "        \n",
    "        # Save encodings as torch tensors\n",
    "        torch.save(torch.tensor(train), f\"datasets/{d['name']}/train.{name}.pt\", _use_new_zipfile_serialization=False)\n",
    "        torch.save(torch.tensor(valid), f\"datasets/{d['name']}/valid.{name}.pt\", _use_new_zipfile_serialization=False)\n",
    "        torch.save(torch.tensor(train_valid), f\"datasets/{d['name']}/train.valid.{name}.pt\", _use_new_zipfile_serialization=False)\n",
    "        torch.save(torch.tensor(test), f\"datasets/{d['name']}/test.{name}.pt\", _use_new_zipfile_serialization=False)\n",
    "        \n",
    "        # Save encodings as numpy arrays\n",
    "        np.save(f\"datasets/{d['name']}/train.{name}.npy\", train, allow_pickle=True)\n",
    "        np.save(f\"datasets/{d['name']}/valid.{name}.npy\", valid, allow_pickle=True)\n",
    "        np.save(f\"datasets/{d['name']}/train.valid.{name}.npy\", train_valid, allow_pickle=True)\n",
    "        np.save(f\"datasets/{d['name']}/test.{name}.npy\", test, allow_pickle=True)\n",
    "\n",
    "joblib.dump(experiments, 'experiments.pyd')"
   ]
  },
  {
   "cell_type": "code",
   "execution_count": 5,
   "metadata": {
    "ExecuteTime": {
     "end_time": "2022-01-10T02:38:41.590449Z",
     "start_time": "2022-01-10T02:38:41.542061Z"
    }
   },
   "outputs": [],
   "source": [
    "# Save labels\n",
    "for d in datasets:\n",
    "    y_train = d['train'].label.astype(int).tolist()\n",
    "    y_valid = d['valid'].label.astype(int).tolist()\n",
    "    y_train_valid = d['train.valid'].label.astype(int).tolist()\n",
    "    y_test = d['test'].label.astype(dtype=int).tolist()\n",
    "    \n",
    "    torch.save(torch.tensor(y_train, dtype=torch.long), f\"datasets/{d['name']}/train.labels.pth\")\n",
    "    torch.save(torch.tensor(y_valid, dtype=torch.long), f\"datasets/{d['name']}/valid.labels.pth\")\n",
    "    torch.save(torch.tensor(y_train_valid, dtype=torch.long), f\"datasets/{d['name']}/train.valid.labels.pth\")\n",
    "    torch.save(torch.tensor(y_test, dtype=torch.long), f\"datasets/{d['name']}/test.labels.pth\")\n",
    "    \n",
    "    np.save(f\"datasets/{d['name']}/train.labels.npy\", y_train, allow_pickle=True)\n",
    "    np.save(f\"datasets/{d['name']}/valid.labels.npy\", y_valid, allow_pickle=True)\n",
    "    np.save(f\"datasets/{d['name']}/train.valid.labels.npy\", y_train_valid, allow_pickle=True)\n",
    "    np.save(f\"datasets/{d['name']}/test.labels.npy\", y_test, allow_pickle=True)\n"
   ]
  }
 ],
 "metadata": {
  "kernelspec": {
   "display_name": "Python 3",
   "language": "python",
   "name": "python3"
  },
  "language_info": {
   "codemirror_mode": {
    "name": "ipython",
    "version": 3
   },
   "file_extension": ".py",
   "mimetype": "text/x-python",
   "name": "python",
   "nbconvert_exporter": "python",
   "pygments_lexer": "ipython3",
   "version": "3.8.10"
  }
 },
 "nbformat": 4,
 "nbformat_minor": 4
}
